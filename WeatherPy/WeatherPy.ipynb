{
 "cells": [
  {
   "cell_type": "markdown",
   "metadata": {},
   "source": [
    "# WeatherPy\n",
    "----\n",
    "\n",
    "#### Note\n",
    "* Instructions have been included for each segment. You do not have to follow them exactly, but they are included to help you think through the steps."
   ]
  },
  {
   "cell_type": "code",
   "execution_count": 1,
   "metadata": {
    "scrolled": true
   },
   "outputs": [],
   "source": [
    "# Dependencies and Setup\n",
    "import matplotlib.pyplot as plt\n",
    "import pandas as pd\n",
    "import numpy as np\n",
    "import scipy.stats as st\n",
    "import requests\n",
    "import json\n",
    "import time\n",
    "from pprint import pprint\n",
    "from scipy.stats import linregress\n",
    "\n",
    "# Import API key\n",
    "from api_keys import weather_api_key\n",
    "\n",
    "# Incorporated citipy to determine city based on latitude and longitude\n",
    "from citipy import citipy\n",
    "\n",
    "# Output File (CSV)\n",
    "output_data_file = \"output_data/cities.csv\"\n",
    "\n",
    "# Range of latitudes and longitudes\n",
    "lat_range = (-90, 90)\n",
    "lng_range = (-180, 180)"
   ]
  },
  {
   "cell_type": "code",
   "execution_count": 2,
   "metadata": {},
   "outputs": [
    {
     "data": {
      "text/plain": [
       "611"
      ]
     },
     "execution_count": 2,
     "metadata": {},
     "output_type": "execute_result"
    }
   ],
   "source": [
    "# List for holding lat_lngs and cities\n",
    "lat_lngs = []\n",
    "cities = []\n",
    "\n",
    "# Create a set of random lat and lng combinations\n",
    "lats = np.random.uniform(lat_range[0], lat_range[1], size=1500)\n",
    "lngs = np.random.uniform(lng_range[0], lng_range[1], size=1500)\n",
    "lat_lngs = zip(lats, lngs)\n",
    "\n",
    "# Identify nearest city for each lat, lng combination\n",
    "for lat_lng in lat_lngs:\n",
    "    city = citipy.nearest_city(lat_lng[0], lat_lng[1]).city_name\n",
    "    \n",
    "    # If the city is unique, then add it to a our cities list\n",
    "    if city not in cities:\n",
    "        cities.append(city)\n",
    "\n",
    "# Print the city count to confirm sufficient count\n",
    "len(cities)"
   ]
  },
  {
   "cell_type": "markdown",
   "metadata": {},
   "source": [
    "### Perform API Calls\n",
    "* Perform a weather check on each city using a series of successive API calls.\n",
    "* Include a print log of each city as it'sbeing processed (with the city number and city name).\n"
   ]
  },
  {
   "cell_type": "code",
   "execution_count": 3,
   "metadata": {},
   "outputs": [
    {
     "data": {
      "text/plain": [
       "'c51718a8fe1f408977826bbb65188383'"
      ]
     },
     "execution_count": 3,
     "metadata": {},
     "output_type": "execute_result"
    }
   ],
   "source": [
    "weather_api_key"
   ]
  },
  {
   "cell_type": "code",
   "execution_count": 4,
   "metadata": {},
   "outputs": [],
   "source": [
    "url = \"http://api.openweathermap.org/data/2.5/weather?\"\n",
    "units = \"imperial\"\n",
    "query_url = f\"{url}appid={weather_api_key}&units={units}&q=\""
   ]
  },
  {
   "cell_type": "code",
   "execution_count": 5,
   "metadata": {},
   "outputs": [],
   "source": [
    "#containers for data\n",
    "city_names = []\n",
    "countries = []\n",
    "latitudes = []\n",
    "longitudes = []\n",
    "temperatures = []\n",
    "humidities = []\n",
    "cloudy_skies = []\n",
    "windiness = []"
   ]
  },
  {
   "cell_type": "code",
   "execution_count": 6,
   "metadata": {
    "tags": []
   },
   "outputs": [
    {
     "name": "stdout",
     "output_type": "stream",
     "text": [
      "nikolskoye's' information is processed\n",
      "------------------------------\n",
      "riyadh's' information is processed\n",
      "------------------------------\n",
      "fort nelson's' information is processed\n",
      "------------------------------\n",
      "cherskiy's' information is processed\n",
      "------------------------------\n",
      "rocha's' information is processed\n",
      "------------------------------\n",
      "dikson's' information is processed\n",
      "------------------------------\n",
      "albany's' information is processed\n",
      "------------------------------\n",
      "fairbanks's' information is processed\n",
      "------------------------------\n",
      "ahuimanu's' information is processed\n",
      "------------------------------\n",
      "mataura's' information is processed\n",
      "------------------------------\n",
      "portland's' information is processed\n",
      "------------------------------\n",
      "punta arenas's' information is processed\n",
      "------------------------------\n",
      "sitka's' information is processed\n",
      "------------------------------\n",
      "ossora's' information is processed\n",
      "------------------------------\n",
      "upernavik's' information is processed\n",
      "------------------------------\n",
      "komsomolskiy's' information is processed\n",
      "------------------------------\n",
      "castro's' information is processed\n",
      "------------------------------\n",
      "cape town's' information is processed\n",
      "------------------------------\n",
      "avarua's' information is processed\n",
      "------------------------------\n",
      "tuktoyaktuk's' information is processed\n",
      "------------------------------\n",
      "yellowknife's' information is processed\n",
      "------------------------------\n",
      "jamestown's' information is processed\n",
      "------------------------------\n",
      "barrow's' information is processed\n",
      "------------------------------\n",
      "rikitea's' information is processed\n",
      "------------------------------\n",
      "esperance's' information is processed\n",
      "------------------------------\n",
      "tougan's' information is processed\n",
      "------------------------------\n",
      "ardesen's' information is processed\n",
      "------------------------------\n",
      "gat's' information is processed\n",
      "------------------------------\n",
      "vestmanna's' information is processed\n",
      "------------------------------\n",
      "cidreira's' information is processed\n",
      "------------------------------\n",
      "carnarvon's' information is processed\n",
      "------------------------------\n",
      "port lincoln's' information is processed\n",
      "------------------------------\n",
      "naze's' information is processed\n",
      "------------------------------\n",
      "kongolo's' information is processed\n",
      "------------------------------\n",
      "clyde river's' information is processed\n",
      "------------------------------\n",
      "new norfolk's' information is processed\n",
      "------------------------------\n",
      "busselton's' information is processed\n",
      "------------------------------\n",
      "farah's' information is processed\n",
      "------------------------------\n",
      "khatanga's' information is processed\n",
      "------------------------------\n",
      "bredasdorp's' information is processed\n",
      "------------------------------\n",
      "saskylakh's' information is processed\n",
      "------------------------------\n",
      "deputatskiy's' information is processed\n",
      "------------------------------\n",
      "winter garden's' information is processed\n",
      "------------------------------\n",
      "souillac's' information is processed\n",
      "------------------------------\n",
      "cervo's' information is processed\n",
      "------------------------------\n",
      "vanimo's' information is processed\n",
      "------------------------------\n",
      "ilulissat's' information is processed\n",
      "------------------------------\n",
      "rio gallegos's' information is processed\n",
      "------------------------------\n",
      "bengkulu's' information is processed\n",
      "------------------------------\n",
      "port blair's' information is processed\n",
      "------------------------------\n",
      "santa vitoria do palmar's' information is processed\n",
      "------------------------------\n",
      "pevek's' information is processed\n",
      "------------------------------\n",
      "bethel's' information is processed\n",
      "------------------------------\n",
      "acapulco's' information is processed\n",
      "------------------------------\n",
      "troitskaya's' information is processed\n",
      "------------------------------\n",
      "saint george's' information is processed\n",
      "------------------------------\n",
      "uribia's' information is processed\n",
      "------------------------------\n",
      "lagoa's' information is processed\n",
      "------------------------------\n",
      "port elizabeth's' information is processed\n",
      "------------------------------\n",
      "bonavista's' information is processed\n",
      "------------------------------\n",
      "tasiilaq's' information is processed\n",
      "------------------------------\n",
      "atuona's' information is processed\n",
      "------------------------------\n",
      "kangaatsiaq's' information is processed\n",
      "------------------------------\n",
      "arraial do cabo's' information is processed\n",
      "------------------------------\n",
      "vila velha's' information is processed\n",
      "------------------------------\n",
      "avera's' information is processed\n",
      "------------------------------\n",
      "hobyo's' information is processed\n",
      "------------------------------\n",
      "mount isa's' information is processed\n",
      "------------------------------\n",
      "nemuro's' information is processed\n",
      "------------------------------\n",
      "hithadhoo's' information is processed\n",
      "------------------------------\n",
      "hermanus's' information is processed\n",
      "------------------------------\n",
      "atambua's' information is processed\n",
      "------------------------------\n",
      "punta de bombon's' information is processed\n",
      "------------------------------\n",
      "bluff's' information is processed\n",
      "------------------------------\n",
      "melito di porto salvo's' information is processed\n",
      "------------------------------\n",
      "hualmay's' information is processed\n",
      "------------------------------\n",
      "paracuru's' information is processed\n",
      "------------------------------\n",
      "arlit's' information is processed\n",
      "------------------------------\n",
      "russell's' information is processed\n",
      "------------------------------\n",
      "hohhot's' information is processed\n",
      "------------------------------\n",
      "san jose's' information is processed\n",
      "------------------------------\n",
      "suntar's' information is processed\n",
      "------------------------------\n",
      "ormara's' information is processed\n",
      "------------------------------\n",
      "airai's' information is processed\n",
      "------------------------------\n",
      "ribeira grande's' information is processed\n",
      "------------------------------\n",
      "lompoc's' information is processed\n",
      "------------------------------\n",
      "faanui's' information is processed\n",
      "------------------------------\n",
      "qasigiannguit's' information is processed\n",
      "------------------------------\n",
      "ostersund's' information is processed\n",
      "------------------------------\n",
      "ushuaia's' information is processed\n",
      "------------------------------\n",
      "cabo san lucas's' information is processed\n",
      "------------------------------\n",
      "grand gaube's' information is processed\n",
      "------------------------------\n",
      "beya's' information is processed\n",
      "------------------------------\n",
      "san cristobal's' information is processed\n",
      "------------------------------\n",
      "hambantota's' information is processed\n",
      "------------------------------\n",
      "shimoda's' information is processed\n",
      "------------------------------\n",
      "hobart's' information is processed\n",
      "------------------------------\n",
      "kautokeino's' information is processed\n",
      "------------------------------\n",
      "dunedin's' information is processed\n",
      "------------------------------\n",
      "chuy's' information is processed\n",
      "------------------------------\n",
      "alofi's' information is processed\n",
      "------------------------------\n",
      "georgetown's' information is processed\n",
      "------------------------------\n",
      "puerto rondon's' information is processed\n",
      "------------------------------\n",
      "ponta do sol's' information is processed\n",
      "------------------------------\n",
      "ous's' information is processed\n",
      "------------------------------\n",
      "tiksi's' information is processed\n",
      "------------------------------\n",
      "kapaa's' information is processed\n",
      "------------------------------\n",
      "te anau's' information is processed\n",
      "------------------------------\n",
      "vao's' information is processed\n",
      "------------------------------\n",
      "shingu's' information is processed\n",
      "------------------------------\n",
      "san patricio's' information is processed\n",
      "------------------------------\n",
      "maniitsoq's' information is processed\n",
      "------------------------------\n",
      "shanghai's' information is processed\n",
      "------------------------------\n",
      "zhigansk's' information is processed\n",
      "------------------------------\n",
      "coihaique's' information is processed\n",
      "------------------------------\n",
      "toora-khem's' information is processed\n",
      "------------------------------\n",
      "klaksvik's' information is processed\n",
      "------------------------------\n",
      "utmanzai's' information is processed\n",
      "------------------------------\n",
      "dali's' information is processed\n",
      "------------------------------\n",
      "thinadhoo's' information is processed\n",
      "------------------------------\n"
     ]
    },
    {
     "name": "stdout",
     "output_type": "stream",
     "text": [
      "qaanaaq's' information is processed\n",
      "------------------------------\n",
      "dicabisagan's' information is processed\n",
      "------------------------------\n",
      "havoysund's' information is processed\n",
      "------------------------------\n",
      "freeport's' information is processed\n",
      "------------------------------\n",
      "elko's' information is processed\n",
      "------------------------------\n",
      "caravelas's' information is processed\n",
      "------------------------------\n",
      "klyuchi's' information is processed\n",
      "------------------------------\n",
      "vysokogornyy's' information is processed\n",
      "------------------------------\n",
      "luganville's' information is processed\n",
      "------------------------------\n",
      "constantine's' information is processed\n",
      "------------------------------\n",
      "jalu's' information is processed\n",
      "------------------------------\n",
      "rawson's' information is processed\n",
      "------------------------------\n",
      "saint-augustin's' information is processed\n",
      "------------------------------\n",
      "palestine's' information is processed\n",
      "------------------------------\n",
      "jhabua's' information is processed\n",
      "------------------------------\n",
      "east london's' information is processed\n",
      "------------------------------\n",
      "manoel urbano's' information is processed\n",
      "------------------------------\n",
      "hilo's' information is processed\n",
      "------------------------------\n",
      "hearst's' information is processed\n",
      "------------------------------\n",
      "evensk's' information is processed\n",
      "------------------------------\n",
      "port macquarie's' information is processed\n",
      "------------------------------\n",
      "nipawin's' information is processed\n",
      "------------------------------\n",
      "vaini's' information is processed\n",
      "------------------------------\n",
      "grindavik's' information is processed\n",
      "------------------------------\n",
      "gornyak's' information is processed\n",
      "------------------------------\n",
      "belaya gora's' information is processed\n",
      "------------------------------\n",
      "yamethin's' information is processed\n",
      "------------------------------\n",
      "alvaraes's' information is processed\n",
      "------------------------------\n",
      "kaitangata's' information is processed\n",
      "------------------------------\n",
      "makakilo city's' information is processed\n",
      "------------------------------\n",
      "kedrovyy's' information is processed\n",
      "------------------------------\n",
      "tumen's' information is processed\n",
      "------------------------------\n",
      "mount gambier's' information is processed\n",
      "------------------------------\n",
      "egvekinot's' information is processed\n",
      "------------------------------\n",
      "torbay's' information is processed\n",
      "------------------------------\n",
      "haapsalu's' information is processed\n",
      "------------------------------\n",
      "santa cruz's' information is processed\n",
      "------------------------------\n",
      "norman wells's' information is processed\n",
      "------------------------------\n",
      "saint-francois's' information is processed\n",
      "------------------------------\n",
      "temiscaming's' information is processed\n",
      "------------------------------\n",
      "lebu's' information is processed\n",
      "------------------------------\n",
      "kruisfontein's' information is processed\n",
      "------------------------------\n",
      "nyrob's' information is processed\n",
      "------------------------------\n",
      "puerto carreno's' information is processed\n",
      "------------------------------\n",
      "buraydah's' information is processed\n",
      "------------------------------\n",
      "porto nacional's' information is processed\n",
      "------------------------------\n",
      "srednekolymsk's' information is processed\n",
      "------------------------------\n",
      "iqaluit's' information is processed\n",
      "------------------------------\n",
      "kattivakkam's' information is processed\n",
      "------------------------------\n",
      "butaritari's' information is processed\n",
      "------------------------------\n",
      "saint-philippe's' information is processed\n",
      "------------------------------\n",
      "kodiak's' information is processed\n",
      "------------------------------\n",
      "vitina's' information is processed\n",
      "------------------------------\n",
      "honiara's' information is processed\n",
      "------------------------------\n",
      "rankovce's' information is processed\n",
      "------------------------------\n",
      "sampit's' information is processed\n",
      "------------------------------\n",
      "helvecia's' information is processed\n",
      "------------------------------\n",
      "thompson's' information is processed\n",
      "------------------------------\n",
      "saint-joseph's' information is processed\n",
      "------------------------------\n",
      "luderitz's' information is processed\n",
      "------------------------------\n",
      "lavrentiya's' information is processed\n",
      "------------------------------\n",
      "puerto ayora's' information is processed\n",
      "------------------------------\n",
      "ambilobe's' information is processed\n",
      "------------------------------\n",
      "nizhnevartovsk's' information is processed\n",
      "------------------------------\n",
      "alamogordo's' information is processed\n",
      "------------------------------\n",
      "antofagasta's' information is processed\n",
      "------------------------------\n",
      "petatlan's' information is processed\n",
      "------------------------------\n",
      "uray's' information is processed\n",
      "------------------------------\n",
      "cap malheureux's' information is processed\n",
      "------------------------------\n",
      "bundaberg's' information is processed\n",
      "------------------------------\n",
      "ostrovnoy's' information is processed\n",
      "------------------------------\n",
      "sakakah's' information is processed\n",
      "------------------------------\n",
      "nhulunbuy's' information is processed\n",
      "------------------------------\n",
      "broome's' information is processed\n",
      "------------------------------\n",
      "tacna's' information is processed\n",
      "------------------------------\n",
      "daru's' information is processed\n",
      "------------------------------\n",
      "peterhead's' information is processed\n",
      "------------------------------\n",
      "aklavik's' information is processed\n",
      "------------------------------\n",
      "lorengau's' information is processed\n",
      "------------------------------\n",
      "moerai's' information is processed\n",
      "------------------------------\n",
      "forestville's' information is processed\n",
      "------------------------------\n",
      "vanavara's' information is processed\n",
      "------------------------------\n",
      "chokurdakh's' information is processed\n",
      "------------------------------\n",
      "rosarito's' information is processed\n",
      "------------------------------\n",
      "wajir's' information is processed\n",
      "------------------------------\n",
      "muros's' information is processed\n",
      "------------------------------\n",
      "los llanos de aridane's' information is processed\n",
      "------------------------------\n",
      "tuatapere's' information is processed\n",
      "------------------------------\n",
      "dargaville's' information is processed\n",
      "------------------------------\n",
      "ottumwa's' information is processed\n",
      "------------------------------\n",
      "kamien pomorski's' information is processed\n",
      "------------------------------\n",
      "lata's' information is processed\n",
      "------------------------------\n",
      "mayumba's' information is processed\n",
      "------------------------------\n",
      "araouane's' information is processed\n",
      "------------------------------\n",
      "nuuk's' information is processed\n",
      "------------------------------\n",
      "boca do acre's' information is processed\n",
      "------------------------------\n",
      "aitape's' information is processed\n",
      "------------------------------\n",
      "cap-chat's' information is processed\n",
      "------------------------------\n",
      "seoul's' information is processed\n",
      "------------------------------\n",
      "gunjur's' information is processed\n",
      "------------------------------\n",
      "orodara's' information is processed\n",
      "------------------------------\n",
      "kahului's' information is processed\n",
      "------------------------------\n",
      "ndele's' information is processed\n",
      "------------------------------\n",
      "cayenne's' information is processed\n",
      "------------------------------\n",
      "portobelo's' information is processed\n",
      "------------------------------\n",
      "yaan's' information is processed\n",
      "------------------------------\n",
      "christchurch's' information is processed\n",
      "------------------------------\n",
      "yulara's' information is processed\n",
      "------------------------------\n",
      "qaqortoq's' information is processed\n",
      "------------------------------\n",
      "chino valley's' information is processed\n",
      "------------------------------\n",
      "longyearbyen's' information is processed\n",
      "------------------------------\n",
      "kailua's' information is processed\n",
      "------------------------------\n",
      "madras's' information is processed\n",
      "------------------------------\n",
      "port alfred's' information is processed\n",
      "------------------------------\n",
      "aykhal's' information is processed\n",
      "------------------------------\n",
      "boende's' information is processed\n",
      "------------------------------\n",
      "orito's' information is processed\n",
      "------------------------------\n",
      "vieste's' information is processed\n",
      "------------------------------\n",
      "lazaro cardenas's' information is processed\n",
      "------------------------------\n",
      "san vicente's' information is processed\n",
      "------------------------------\n"
     ]
    },
    {
     "name": "stdout",
     "output_type": "stream",
     "text": [
      "leningradskiy's' information is processed\n",
      "------------------------------\n",
      "mar del plata's' information is processed\n",
      "------------------------------\n",
      "malanville's' information is processed\n",
      "------------------------------\n",
      "nanortalik's' information is processed\n",
      "------------------------------\n",
      "pangody's' information is processed\n",
      "------------------------------\n",
      "lasa's' information is processed\n",
      "------------------------------\n",
      "geraldton's' information is processed\n",
      "------------------------------\n",
      "langsa's' information is processed\n",
      "------------------------------\n",
      "pokhvistnevo's' information is processed\n",
      "------------------------------\n",
      "makinsk's' information is processed\n",
      "------------------------------\n",
      "port shepstone's' information is processed\n",
      "------------------------------\n",
      "bardiyah's' information is processed\n",
      "------------------------------\n",
      "kaseda's' information is processed\n",
      "------------------------------\n",
      "berlevag's' information is processed\n",
      "------------------------------\n",
      "baloda's' information is processed\n",
      "------------------------------\n",
      "margate's' information is processed\n",
      "------------------------------\n",
      "rabo de peixe's' information is processed\n",
      "------------------------------\n",
      "arman's' information is processed\n",
      "------------------------------\n",
      "pecos's' information is processed\n",
      "------------------------------\n",
      "pacifica's' information is processed\n",
      "------------------------------\n",
      "olga's' information is processed\n",
      "------------------------------\n",
      "atbasar's' information is processed\n",
      "------------------------------\n",
      "pueblo's' information is processed\n",
      "------------------------------\n",
      "remanso's' information is processed\n",
      "------------------------------\n",
      "hami's' information is processed\n",
      "------------------------------\n",
      "inongo's' information is processed\n",
      "------------------------------\n",
      "zonguldak's' information is processed\n",
      "------------------------------\n",
      "wakkanai's' information is processed\n",
      "------------------------------\n",
      "hofn's' information is processed\n",
      "------------------------------\n",
      "tuy hoa's' information is processed\n",
      "------------------------------\n",
      "ciudad bolivar's' information is processed\n",
      "------------------------------\n",
      "bara's' information is processed\n",
      "------------------------------\n",
      "kinablangan's' information is processed\n",
      "------------------------------\n",
      "necochea's' information is processed\n",
      "------------------------------\n",
      "san andres's' information is processed\n",
      "------------------------------\n",
      "sungaipenuh's' information is processed\n",
      "------------------------------\n",
      "berdigestyakh's' information is processed\n",
      "------------------------------\n",
      "nioro's' information is processed\n",
      "------------------------------\n",
      "sinnamary's' information is processed\n",
      "------------------------------\n",
      "jinchang's' information is processed\n",
      "------------------------------\n",
      "udachnyy's' information is processed\n",
      "------------------------------\n",
      "southbridge's' information is processed\n",
      "------------------------------\n",
      "constitucion's' information is processed\n",
      "------------------------------\n",
      "bamnet narong's' information is processed\n",
      "------------------------------\n",
      "los banos's' information is processed\n",
      "------------------------------\n",
      "orje's' information is processed\n",
      "------------------------------\n",
      "mehamn's' information is processed\n",
      "------------------------------\n",
      "kapit's' information is processed\n",
      "------------------------------\n",
      "gigmoto's' information is processed\n",
      "------------------------------\n",
      "taltal's' information is processed\n",
      "------------------------------\n",
      "marsh harbour's' information is processed\n",
      "------------------------------\n",
      "waipawa's' information is processed\n",
      "------------------------------\n",
      "pimentel's' information is processed\n",
      "------------------------------\n",
      "stepnyak's' information is processed\n",
      "------------------------------\n",
      "louth's' information is processed\n",
      "------------------------------\n",
      "atar's' information is processed\n",
      "------------------------------\n",
      "gladstone's' information is processed\n",
      "------------------------------\n",
      "sabang's' information is processed\n",
      "------------------------------\n",
      "maralal's' information is processed\n",
      "------------------------------\n",
      "requena's' information is processed\n",
      "------------------------------\n",
      "turbat's' information is processed\n",
      "------------------------------\n",
      "sao joao da barra's' information is processed\n",
      "------------------------------\n",
      "nalut's' information is processed\n",
      "------------------------------\n",
      "mitsamiouli's' information is processed\n",
      "------------------------------\n",
      "kyren's' information is processed\n",
      "------------------------------\n",
      "maracacume's' information is processed\n",
      "------------------------------\n",
      "canton's' information is processed\n",
      "------------------------------\n",
      "inirida's' information is processed\n",
      "------------------------------\n",
      "port-gentil's' information is processed\n",
      "------------------------------\n",
      "bustamante's' information is processed\n",
      "------------------------------\n",
      "poya's' information is processed\n",
      "------------------------------\n",
      "mahebourg's' information is processed\n",
      "------------------------------\n",
      "codrington's' information is processed\n",
      "------------------------------\n",
      "wanxian's' information is processed\n",
      "------------------------------\n",
      "la ronge's' information is processed\n",
      "------------------------------\n",
      "lekoni's' information is processed\n",
      "------------------------------\n",
      "hovd's' information is processed\n",
      "------------------------------\n",
      "kaliganj's' information is processed\n",
      "------------------------------\n",
      "luba's' information is processed\n",
      "------------------------------\n",
      "najran's' information is processed\n",
      "------------------------------\n",
      "svetlogorsk's' information is processed\n",
      "------------------------------\n",
      "touros's' information is processed\n",
      "------------------------------\n",
      "laguna's' information is processed\n",
      "------------------------------\n",
      "ruteng's' information is processed\n",
      "------------------------------\n",
      "oistins's' information is processed\n",
      "------------------------------\n",
      "hurghada's' information is processed\n",
      "------------------------------\n",
      "asau's' information is processed\n",
      "------------------------------\n",
      "keetmanshoop's' information is processed\n",
      "------------------------------\n",
      "emirdag's' information is processed\n",
      "------------------------------\n",
      "haicheng's' information is processed\n",
      "------------------------------\n",
      "tongliao's' information is processed\n",
      "------------------------------\n",
      "tshane's' information is processed\n",
      "------------------------------\n",
      "paso de ovejas's' information is processed\n",
      "------------------------------\n",
      "myitkyina's' information is processed\n",
      "------------------------------\n",
      "banda aceh's' information is processed\n",
      "------------------------------\n",
      "coquimbo's' information is processed\n",
      "------------------------------\n",
      "wanning's' information is processed\n",
      "------------------------------\n",
      "kavieng's' information is processed\n",
      "------------------------------\n",
      "sao felix do xingu's' information is processed\n",
      "------------------------------\n",
      "andenes's' information is processed\n",
      "------------------------------\n",
      "annau's' information is processed\n",
      "------------------------------\n",
      "aksarka's' information is processed\n",
      "------------------------------\n",
      "fortuna's' information is processed\n",
      "------------------------------\n",
      "shahrud's' information is processed\n",
      "------------------------------\n",
      "carutapera's' information is processed\n",
      "------------------------------\n",
      "haines junction's' information is processed\n",
      "------------------------------\n",
      "burewala's' information is processed\n",
      "------------------------------\n",
      "nishihara's' information is processed\n",
      "------------------------------\n",
      "high prairie's' information is processed\n",
      "------------------------------\n",
      "acarau's' information is processed\n",
      "------------------------------\n",
      "scarborough's' information is processed\n",
      "------------------------------\n",
      "xingcheng's' information is processed\n",
      "------------------------------\n",
      "victoria's' information is processed\n",
      "------------------------------\n",
      "ucluelet's' information is processed\n",
      "------------------------------\n",
      "port-cartier's' information is processed\n",
      "------------------------------\n",
      "green river's' information is processed\n",
      "------------------------------\n",
      "kuah's' information is processed\n",
      "------------------------------\n",
      "dongsheng's' information is processed\n",
      "------------------------------\n",
      "kingsville's' information is processed\n",
      "------------------------------\n",
      "mirnyy's' information is processed\n",
      "------------------------------\n",
      "binzhou's' information is processed\n",
      "------------------------------\n",
      "clearwater's' information is processed\n",
      "------------------------------\n"
     ]
    },
    {
     "name": "stdout",
     "output_type": "stream",
     "text": [
      "vila franca do campo's' information is processed\n",
      "------------------------------\n",
      "alice springs's' information is processed\n",
      "------------------------------\n",
      "progreso's' information is processed\n",
      "------------------------------\n",
      "whakatane's' information is processed\n",
      "------------------------------\n",
      "ahipara's' information is processed\n",
      "------------------------------\n",
      "fuzhou's' information is processed\n",
      "------------------------------\n",
      "chama's' information is processed\n",
      "------------------------------\n",
      "sabya's' information is processed\n",
      "------------------------------\n",
      "yeppoon's' information is processed\n",
      "------------------------------\n",
      "kumta's' information is processed\n",
      "------------------------------\n",
      "sao filipe's' information is processed\n",
      "------------------------------\n",
      "awjilah's' information is processed\n",
      "------------------------------\n",
      "salalah's' information is processed\n",
      "------------------------------\n",
      "soyo's' information is processed\n",
      "------------------------------\n",
      "pallasovka's' information is processed\n",
      "------------------------------\n",
      "bergen's' information is processed\n",
      "------------------------------\n",
      "yerbogachen's' information is processed\n",
      "------------------------------\n",
      "ziniare's' information is processed\n",
      "------------------------------\n",
      "visim's' information is processed\n",
      "------------------------------\n",
      "inta's' information is processed\n",
      "------------------------------\n",
      "boa vista's' information is processed\n",
      "------------------------------\n",
      "romitan's' information is processed\n",
      "------------------------------\n",
      "petrovsk-zabaykalskiy's' information is processed\n",
      "------------------------------\n",
      "gidam's' information is processed\n",
      "------------------------------\n",
      "okhotsk's' information is processed\n",
      "------------------------------\n",
      "kathmandu's' information is processed\n",
      "------------------------------\n",
      "gamba's' information is processed\n",
      "------------------------------\n",
      "bayonet point's' information is processed\n",
      "------------------------------\n",
      "marigot's' information is processed\n",
      "------------------------------\n",
      "kenai's' information is processed\n",
      "------------------------------\n",
      "saldanha's' information is processed\n",
      "------------------------------\n",
      "buala's' information is processed\n",
      "------------------------------\n",
      "dwarka's' information is processed\n",
      "------------------------------\n",
      "ngunguru's' information is processed\n",
      "------------------------------\n",
      "saint-pierre's' information is processed\n",
      "------------------------------\n",
      "sahuaripa's' information is processed\n",
      "------------------------------\n",
      "okitipupa's' information is processed\n",
      "------------------------------\n",
      "kaeo's' information is processed\n",
      "------------------------------\n",
      "malanje's' information is processed\n",
      "------------------------------\n",
      "nueve de julio's' information is processed\n",
      "------------------------------\n",
      "whitefish's' information is processed\n",
      "------------------------------\n",
      "mosquera's' information is processed\n",
      "------------------------------\n",
      "parkersburg's' information is processed\n",
      "------------------------------\n",
      "saryg-sep's' information is processed\n",
      "------------------------------\n",
      "shelburne's' information is processed\n",
      "------------------------------\n",
      "petropavlovsk-kamchatskiy's' information is processed\n",
      "------------------------------\n",
      "adrar's' information is processed\n",
      "------------------------------\n",
      "san quintin's' information is processed\n",
      "------------------------------\n",
      "suda's' information is processed\n",
      "------------------------------\n",
      "spearfish's' information is processed\n",
      "------------------------------\n",
      "karakol's' information is processed\n",
      "------------------------------\n",
      "manado's' information is processed\n",
      "------------------------------\n",
      "tukrah's' information is processed\n",
      "------------------------------\n",
      "severo-kurilsk's' information is processed\n",
      "------------------------------\n",
      "puyang's' information is processed\n",
      "------------------------------\n",
      "tala's' information is processed\n",
      "------------------------------\n",
      "faya's' information is processed\n",
      "------------------------------\n",
      "nouadhibou's' information is processed\n",
      "------------------------------\n",
      "lebowakgomo's' information is processed\n",
      "------------------------------\n",
      "marmande's' information is processed\n",
      "------------------------------\n",
      "vardo's' information is processed\n",
      "------------------------------\n",
      "barberton's' information is processed\n",
      "------------------------------\n",
      "kutulik's' information is processed\n",
      "------------------------------\n",
      "kaoma's' information is processed\n",
      "------------------------------\n",
      "qarqin's' information is processed\n",
      "------------------------------\n",
      "ancud's' information is processed\n",
      "------------------------------\n",
      "chabahar's' information is processed\n",
      "------------------------------\n",
      "kloulklubed's' information is processed\n",
      "------------------------------\n",
      "anju's' information is processed\n",
      "------------------------------\n",
      "kununurra's' information is processed\n",
      "------------------------------\n",
      "bilibino's' information is processed\n",
      "------------------------------\n",
      "kalmunai's' information is processed\n",
      "------------------------------\n",
      "mujiayingzi's' information is processed\n",
      "------------------------------\n",
      "nosy varika's' information is processed\n",
      "------------------------------\n",
      "tautira's' information is processed\n",
      "------------------------------\n",
      "wonosobo's' information is processed\n",
      "------------------------------\n",
      "ewa beach's' information is processed\n",
      "------------------------------\n",
      "sanming's' information is processed\n",
      "------------------------------\n",
      "kingman's' information is processed\n",
      "------------------------------\n",
      "nobeoka's' information is processed\n",
      "------------------------------\n",
      "pirapora's' information is processed\n",
      "------------------------------\n",
      "pangnirtung's' information is processed\n",
      "------------------------------\n",
      "provideniya's' information is processed\n",
      "------------------------------\n",
      "anshun's' information is processed\n",
      "------------------------------\n",
      "tokur's' information is processed\n",
      "------------------------------\n",
      "marawi's' information is processed\n",
      "------------------------------\n",
      "ust-kuyga's' information is processed\n",
      "------------------------------\n",
      "kysyl-syr's' information is processed\n",
      "------------------------------\n",
      "alta floresta's' information is processed\n",
      "------------------------------\n",
      "tingi's' information is processed\n",
      "------------------------------\n",
      "tarko-sale's' information is processed\n",
      "------------------------------\n",
      "kerman's' information is processed\n",
      "------------------------------\n",
      "jutai's' information is processed\n",
      "------------------------------\n",
      "paysandu's' information is processed\n",
      "------------------------------\n",
      "clinton's' information is processed\n",
      "------------------------------\n",
      "istisu's' information is processed\n",
      "------------------------------\n",
      "auki's' information is processed\n",
      "------------------------------\n",
      "college's' information is processed\n",
      "------------------------------\n",
      "sola's' information is processed\n",
      "------------------------------\n",
      "troitskoye's' information is processed\n",
      "------------------------------\n",
      "southampton's' information is processed\n",
      "------------------------------\n",
      "misratah's' information is processed\n",
      "------------------------------\n",
      "guerrero negro's' information is processed\n",
      "------------------------------\n",
      "caxito's' information is processed\n",
      "------------------------------\n",
      "mokhsogollokh's' information is processed\n",
      "------------------------------\n",
      "poum's' information is processed\n",
      "------------------------------\n",
      "qandala's' information is processed\n",
      "------------------------------\n",
      "methoni's' information is processed\n",
      "------------------------------\n",
      "karaj's' information is processed\n",
      "------------------------------\n",
      "namatanai's' information is processed\n",
      "------------------------------\n",
      "padang's' information is processed\n",
      "------------------------------\n",
      "brae's' information is processed\n",
      "------------------------------\n",
      "tilichiki's' information is processed\n",
      "------------------------------\n",
      "okmulgee's' information is processed\n",
      "------------------------------\n",
      "tambopata's' information is processed\n",
      "------------------------------\n",
      "lerwick's' information is processed\n",
      "------------------------------\n",
      "mundo nuevo's' information is processed\n",
      "------------------------------\n",
      "iberia's' information is processed\n",
      "------------------------------\n",
      "redmond's' information is processed\n",
      "------------------------------\n",
      "roma's' information is processed\n",
      "------------------------------\n",
      "gornopravdinsk's' information is processed\n",
      "------------------------------\n"
     ]
    },
    {
     "name": "stdout",
     "output_type": "stream",
     "text": [
      "traralgon's' information is processed\n",
      "------------------------------\n",
      "solhan's' information is processed\n",
      "------------------------------\n",
      "grande prairie's' information is processed\n",
      "------------------------------\n",
      "solnechnyy's' information is processed\n",
      "------------------------------\n",
      "marsa matruh's' information is processed\n",
      "------------------------------\n",
      "mezen's' information is processed\n",
      "------------------------------\n",
      "katsuura's' information is processed\n",
      "------------------------------\n",
      "itaituba's' information is processed\n",
      "------------------------------\n",
      "rugeley's' information is processed\n",
      "------------------------------\n",
      "urdoma's' information is processed\n",
      "------------------------------\n",
      "alnavar's' information is processed\n",
      "------------------------------\n",
      "camopi's' information is processed\n",
      "------------------------------\n",
      "champerico's' information is processed\n",
      "------------------------------\n",
      "chaadayevka's' information is processed\n",
      "------------------------------\n",
      "parintins's' information is processed\n",
      "------------------------------\n",
      "motihari's' information is processed\n",
      "------------------------------\n",
      "edgewater's' information is processed\n",
      "------------------------------\n",
      "baturyn's' information is processed\n",
      "------------------------------\n",
      "minot's' information is processed\n",
      "------------------------------\n",
      "kavaratti's' information is processed\n",
      "------------------------------\n",
      "guazacapan's' information is processed\n",
      "------------------------------\n",
      "luwuk's' information is processed\n",
      "------------------------------\n",
      "mogadishu's' information is processed\n",
      "------------------------------\n",
      "novyy urengoy's' information is processed\n",
      "------------------------------\n",
      "juba's' information is processed\n",
      "------------------------------\n",
      "bow island's' information is processed\n",
      "------------------------------\n",
      "inverell's' information is processed\n",
      "------------------------------\n",
      "pout's' information is processed\n",
      "------------------------------\n",
      "kota tinggi's' information is processed\n",
      "------------------------------\n",
      "kitimat's' information is processed\n",
      "------------------------------\n",
      "bambous virieux's' information is processed\n",
      "------------------------------\n",
      "isangel's' information is processed\n",
      "------------------------------\n",
      "camocim's' information is processed\n",
      "------------------------------\n",
      "nome's' information is processed\n",
      "------------------------------\n",
      "ulladulla's' information is processed\n",
      "------------------------------\n",
      "redlands's' information is processed\n",
      "------------------------------\n",
      "mayo's' information is processed\n",
      "------------------------------\n",
      "ayan's' information is processed\n",
      "------------------------------\n",
      "sur's' information is processed\n",
      "------------------------------\n",
      "dombarovskiy's' information is processed\n",
      "------------------------------\n",
      "yarkovo's' information is processed\n",
      "------------------------------\n",
      "victor harbor's' information is processed\n",
      "------------------------------\n",
      "bathsheba's' information is processed\n",
      "------------------------------\n",
      "pias's' information is processed\n",
      "------------------------------\n",
      "tubuala's' information is processed\n",
      "------------------------------\n",
      "skjervoy's' information is processed\n",
      "------------------------------\n",
      "aku's' information is processed\n",
      "------------------------------\n",
      "cordoba's' information is processed\n",
      "------------------------------\n",
      "guilin's' information is processed\n",
      "------------------------------\n",
      "rovira's' information is processed\n",
      "------------------------------\n",
      "gao's' information is processed\n",
      "------------------------------\n",
      "santa teresa's' information is processed\n",
      "------------------------------\n",
      "coos bay's' information is processed\n",
      "------------------------------\n",
      "noyabrsk's' information is processed\n",
      "------------------------------\n",
      "yar-sale's' information is processed\n",
      "------------------------------\n",
      "ambon's' information is processed\n",
      "------------------------------\n",
      "mildura's' information is processed\n",
      "------------------------------\n",
      "tabas's' information is processed\n",
      "------------------------------\n",
      "ishigaki's' information is processed\n",
      "------------------------------\n",
      "rincon's' information is processed\n",
      "------------------------------\n",
      "talnakh's' information is processed\n",
      "------------------------------\n",
      "bronnitsy's' information is processed\n",
      "------------------------------\n",
      "lyaskelya's' information is processed\n",
      "------------------------------\n",
      "muisne's' information is processed\n",
      "------------------------------\n",
      "itamarandiba's' information is processed\n",
      "------------------------------\n",
      "talaya's' information is processed\n",
      "------------------------------\n",
      "bella union's' information is processed\n",
      "------------------------------\n",
      "razdolnoye's' information is processed\n",
      "------------------------------\n",
      "xihe's' information is processed\n",
      "------------------------------\n",
      "moose jaw's' information is processed\n",
      "------------------------------\n",
      "andijon's' information is processed\n",
      "------------------------------\n"
     ]
    }
   ],
   "source": [
    "for city in cities:\n",
    "    try:\n",
    "        #get the data into json format\n",
    "        response = requests.get(query_url + city).json()\n",
    "        \n",
    "        #store data into lists\n",
    "        city_names.append(response['name'])\n",
    "        latitudes.append(response['coord']['lat'])\n",
    "        longitudes.append(response['coord']['lon'])\n",
    "        cloudy_skies.append(response[\"clouds\"][\"all\"])\n",
    "        windiness.append(response[\"wind\"][\"speed\"])\n",
    "        temperatures.append(response[\"main\"][\"temp_max\"])\n",
    "        humidities.append(response[\"main\"][\"humidity\"])\n",
    "        countries.append(response['sys']['country'])\n",
    "        print(f\"{city}'s' information is processed\")\n",
    "        print(\"-\" * 30)\n",
    "    except:\n",
    "        continue\n",
    "        #cities not listed in the output were not found in the API\n",
    "       "
   ]
  },
  {
   "cell_type": "markdown",
   "metadata": {},
   "source": [
    "# Convert Raw Data to DataFrame\n",
    "* Export the city data into a .csv.\n",
    "* Display the DataFrame"
   ]
  },
  {
   "cell_type": "code",
   "execution_count": 7,
   "metadata": {},
   "outputs": [
    {
     "data": {
      "text/html": [
       "<div>\n",
       "<style scoped>\n",
       "    .dataframe tbody tr th:only-of-type {\n",
       "        vertical-align: middle;\n",
       "    }\n",
       "\n",
       "    .dataframe tbody tr th {\n",
       "        vertical-align: top;\n",
       "    }\n",
       "\n",
       "    .dataframe thead th {\n",
       "        text-align: right;\n",
       "    }\n",
       "</style>\n",
       "<table border=\"1\" class=\"dataframe\">\n",
       "  <thead>\n",
       "    <tr style=\"text-align: right;\">\n",
       "      <th></th>\n",
       "      <th>City</th>\n",
       "      <th>Country</th>\n",
       "      <th>Latitude</th>\n",
       "      <th>Longitude</th>\n",
       "      <th>Temperatures</th>\n",
       "      <th>Humidity</th>\n",
       "      <th>Cloudiness</th>\n",
       "      <th>Windiness</th>\n",
       "    </tr>\n",
       "  </thead>\n",
       "  <tbody>\n",
       "    <tr>\n",
       "      <th>0</th>\n",
       "      <td>Nikolskoye</td>\n",
       "      <td>RU</td>\n",
       "      <td>59.7035</td>\n",
       "      <td>30.7861</td>\n",
       "      <td>5.00</td>\n",
       "      <td>85</td>\n",
       "      <td>90</td>\n",
       "      <td>4.47</td>\n",
       "    </tr>\n",
       "    <tr>\n",
       "      <th>1</th>\n",
       "      <td>Riyadh</td>\n",
       "      <td>SA</td>\n",
       "      <td>24.6877</td>\n",
       "      <td>46.7219</td>\n",
       "      <td>53.60</td>\n",
       "      <td>71</td>\n",
       "      <td>0</td>\n",
       "      <td>3.44</td>\n",
       "    </tr>\n",
       "    <tr>\n",
       "      <th>2</th>\n",
       "      <td>Fort Nelson</td>\n",
       "      <td>CA</td>\n",
       "      <td>58.8053</td>\n",
       "      <td>-122.7002</td>\n",
       "      <td>-16.60</td>\n",
       "      <td>63</td>\n",
       "      <td>75</td>\n",
       "      <td>10.36</td>\n",
       "    </tr>\n",
       "    <tr>\n",
       "      <th>3</th>\n",
       "      <td>Cherskiy</td>\n",
       "      <td>RU</td>\n",
       "      <td>68.7500</td>\n",
       "      <td>161.3000</td>\n",
       "      <td>7.25</td>\n",
       "      <td>77</td>\n",
       "      <td>94</td>\n",
       "      <td>5.77</td>\n",
       "    </tr>\n",
       "    <tr>\n",
       "      <th>4</th>\n",
       "      <td>Rocha</td>\n",
       "      <td>UY</td>\n",
       "      <td>-34.4833</td>\n",
       "      <td>-54.3333</td>\n",
       "      <td>64.99</td>\n",
       "      <td>90</td>\n",
       "      <td>95</td>\n",
       "      <td>10.67</td>\n",
       "    </tr>\n",
       "  </tbody>\n",
       "</table>\n",
       "</div>"
      ],
      "text/plain": [
       "          City Country  Latitude  Longitude  Temperatures  Humidity  \\\n",
       "0   Nikolskoye      RU   59.7035    30.7861          5.00        85   \n",
       "1       Riyadh      SA   24.6877    46.7219         53.60        71   \n",
       "2  Fort Nelson      CA   58.8053  -122.7002        -16.60        63   \n",
       "3     Cherskiy      RU   68.7500   161.3000          7.25        77   \n",
       "4        Rocha      UY  -34.4833   -54.3333         64.99        90   \n",
       "\n",
       "   Cloudiness  Windiness  \n",
       "0          90       4.47  \n",
       "1           0       3.44  \n",
       "2          75      10.36  \n",
       "3          94       5.77  \n",
       "4          95      10.67  "
      ]
     },
     "execution_count": 7,
     "metadata": {},
     "output_type": "execute_result"
    }
   ],
   "source": [
    "weather_df = pd.DataFrame({\n",
    "    \"City\": city_names,\n",
    "    \"Country\": countries,\n",
    "    \"Latitude\":latitudes,\n",
    "    \"Longitude\": longitudes,\n",
    "    \"Temperatures\": temperatures,\n",
    "    \"Humidity\": humidities,\n",
    "    \"Cloudiness\": cloudy_skies,\n",
    "    \"Windiness\" : windiness\n",
    "})\n",
    "weather_df.head()"
   ]
  },
  {
   "cell_type": "code",
   "execution_count": 8,
   "metadata": {},
   "outputs": [],
   "source": [
    "weather_df.to_csv(\"./Data/weather_info.csv\")"
   ]
  },
  {
   "cell_type": "code",
   "execution_count": 9,
   "metadata": {},
   "outputs": [
    {
     "data": {
      "text/plain": [
       "City            554\n",
       "Country         554\n",
       "Latitude        554\n",
       "Longitude       554\n",
       "Temperatures    554\n",
       "Humidity        554\n",
       "Cloudiness      554\n",
       "Windiness       554\n",
       "dtype: int64"
      ]
     },
     "execution_count": 9,
     "metadata": {},
     "output_type": "execute_result"
    }
   ],
   "source": [
    "weather_df.count()"
   ]
  },
  {
   "cell_type": "code",
   "execution_count": 10,
   "metadata": {},
   "outputs": [
    {
     "data": {
      "text/plain": [
       "City                Country  Latitude  Longitude  Temperatures  Humidity  Cloudiness  Windiness\n",
       "‘Āhuimanu           US        21.4447  -157.8378   80.60        41        1           16.11        1\n",
       "Inta                RU        66.0317   60.1659   -19.30        88        100         3.38         1\n",
       "Itaituba            BR       -4.2761   -55.9836    82.40        78        40          5.75         1\n",
       "Ishigaki            JP        24.3448   124.1572   66.20        63        75          19.57        1\n",
       "Isangel             VU       -19.5500   169.2667   86.00        66        20          6.67         1\n",
       "                                                                                                  ..\n",
       "Portland            US        45.5234  -122.6762   46.40        46        90          1.63         1\n",
       "Porto Nacional      BR       -10.7081  -48.4172    80.60        78        75          5.75         1\n",
       "Portobelo           PA        9.5500   -79.6500    80.01        72        94          3.00         1\n",
       "Poum                NC       -20.2333   164.0167   81.23        72        32          9.98         1\n",
       "Acapulco de Juárez  MX        16.8634  -99.8901    84.20        65        40          9.22         1\n",
       "Length: 554, dtype: int64"
      ]
     },
     "execution_count": 10,
     "metadata": {},
     "output_type": "execute_result"
    }
   ],
   "source": [
    "weather_df.value_counts()"
   ]
  },
  {
   "cell_type": "markdown",
   "metadata": {},
   "source": [
    "Inspect the data and remove the cities where the humidity > 100%.\n",
    "----\n",
    "Skip this step if there are no cities that have humidity > 100%. "
   ]
  },
  {
   "cell_type": "code",
   "execution_count": 11,
   "metadata": {},
   "outputs": [
    {
     "data": {
      "text/html": [
       "<div>\n",
       "<style scoped>\n",
       "    .dataframe tbody tr th:only-of-type {\n",
       "        vertical-align: middle;\n",
       "    }\n",
       "\n",
       "    .dataframe tbody tr th {\n",
       "        vertical-align: top;\n",
       "    }\n",
       "\n",
       "    .dataframe thead th {\n",
       "        text-align: right;\n",
       "    }\n",
       "</style>\n",
       "<table border=\"1\" class=\"dataframe\">\n",
       "  <thead>\n",
       "    <tr style=\"text-align: right;\">\n",
       "      <th></th>\n",
       "      <th>City</th>\n",
       "      <th>Country</th>\n",
       "      <th>Latitude</th>\n",
       "      <th>Longitude</th>\n",
       "      <th>Temperatures</th>\n",
       "      <th>Humidity</th>\n",
       "      <th>Cloudiness</th>\n",
       "      <th>Windiness</th>\n",
       "    </tr>\n",
       "  </thead>\n",
       "  <tbody>\n",
       "  </tbody>\n",
       "</table>\n",
       "</div>"
      ],
      "text/plain": [
       "Empty DataFrame\n",
       "Columns: [City, Country, Latitude, Longitude, Temperatures, Humidity, Cloudiness, Windiness]\n",
       "Index: []"
      ]
     },
     "execution_count": 11,
     "metadata": {},
     "output_type": "execute_result"
    }
   ],
   "source": [
    "#  Get the indices of cities that have humidity over 100%.\n",
    "weather_df[weather_df[\"Humidity\"] > 100]"
   ]
  },
  {
   "cell_type": "code",
   "execution_count": 12,
   "metadata": {},
   "outputs": [
    {
     "name": "stdout",
     "output_type": "stream",
     "text": [
      "There are no cities with humidities > 100%\n"
     ]
    }
   ],
   "source": [
    "# Make a new DataFrame equal to the city data to drop all humidity outliers by index.\n",
    "# Passing \"inplace=False\" will make a copy of the city_data DataFrame, which we call \"clean_city_data\".\n",
    "print(f\"There are no cities with humidities > 100%\")"
   ]
  },
  {
   "cell_type": "markdown",
   "metadata": {},
   "source": [
    "## Plotting the Data\n",
    "* Use proper labeling of the plots using plot titles (including date of analysis) and axes labels.\n",
    "* Save the plotted figures as .pngs."
   ]
  },
  {
   "cell_type": "markdown",
   "metadata": {},
   "source": [
    "## Latitude vs. Temperature Plot"
   ]
  },
  {
   "cell_type": "code",
   "execution_count": 13,
   "metadata": {
    "scrolled": true
   },
   "outputs": [
    {
     "data": {
      "image/png": "[encoded data removed]",
      "text/plain": [
       "<Figure size 432x288 with 1 Axes>"
      ]
     },
     "metadata": {
      "needs_background": "light"
     },
     "output_type": "display_data"
    }
   ],
   "source": [
    "plt.scatter(weather_df.Latitude, weather_df.Temperatures, edgecolors=\"black\")\n",
    "plt.title(\"Latitude vs. Temperature (F) on a Subset of World Cities\")\n",
    "plt.xlabel(\"Latitude\")\n",
    "plt.ylabel(\"Temperatures (F)\")\n",
    "plt.savefig(\"./Images/lat_temp.png\",bbox_inches=\"tight\")\n",
    "plt.show()\n",
    "plt.close()"
   ]
  },
  {
   "cell_type": "code",
   "execution_count": 14,
   "metadata": {},
   "outputs": [
    {
     "name": "stdout",
     "output_type": "stream",
     "text": [
      "The latitude vs. temperature plot is a curvlinear (inverted U) relationship with a r^2 value of 0.61, which exhibits a moderate correlation\n"
     ]
    }
   ],
   "source": [
    "##Latitude vs Temperature plot\n",
    "correlation_matrix = np.corrcoef(weather_df.Latitude, weather_df.Temperatures)\n",
    "correlation_xy = correlation_matrix[0,1]\n",
    "r_squared = correlation_xy**2\n",
    "r_squared = round(r_squared,2)\n",
    "print(f\"The latitude vs. temperature plot is a curvlinear (inverted U) relationship with a r^2 value of {r_squared}, which exhibits a moderate correlation\")"
   ]
  },
  {
   "cell_type": "markdown",
   "metadata": {},
   "source": [
    "## Latitude vs. Humidity Plot"
   ]
  },
  {
   "cell_type": "code",
   "execution_count": 15,
   "metadata": {},
   "outputs": [
    {
     "data": {
      "image/png": "[encoded data removed]",
      "text/plain": [
       "<Figure size 432x288 with 1 Axes>"
      ]
     },
     "metadata": {
      "needs_background": "light"
     },
     "output_type": "display_data"
    }
   ],
   "source": [
    "plt.scatter(weather_df.Latitude, weather_df.Humidity, edgecolors=\"black\")\n",
    "plt.title(\"Latitude vs. Humidity (%) on a Subset of World Cities\")\n",
    "plt.xlabel(\"Latitude\")\n",
    "plt.ylabel(\"Humidity (%)\")\n",
    "plt.savefig(\"./Images/lat_humid.png\", bbox_inches=\"tight\")\n",
    "plt.show()\n",
    "plt.close()"
   ]
  },
  {
   "cell_type": "code",
   "execution_count": 16,
   "metadata": {},
   "outputs": [
    {
     "name": "stdout",
     "output_type": "stream",
     "text": [
      "The latitude vs. humidity plot has no correlation. It has a r_squared value of 0.0.\n"
     ]
    }
   ],
   "source": [
    "correlation_matrix = np.corrcoef(weather_df.Latitude, weather_df.Humidity)\n",
    "correlation_xy = correlation_matrix[0,1]\n",
    "r_squared = correlation_xy**2\n",
    "r_squared = round(r_squared,2)\n",
    "print(f\"The latitude vs. humidity plot has no correlation. It has a r_squared value of {r_squared}.\")"
   ]
  },
  {
   "cell_type": "markdown",
   "metadata": {},
   "source": [
    "## Latitude vs. Cloudiness Plot"
   ]
  },
  {
   "cell_type": "code",
   "execution_count": 17,
   "metadata": {},
   "outputs": [
    {
     "data": {
      "image/png": "[encoded data removed]",
      "text/plain": [
       "<Figure size 432x288 with 1 Axes>"
      ]
     },
     "metadata": {
      "needs_background": "light"
     },
     "output_type": "display_data"
    }
   ],
   "source": [
    "plt.scatter(weather_df.Latitude, weather_df.Cloudiness, edgecolors=\"black\")\n",
    "plt.title(\"Latitude vs. Cloudiness on a Subset of World Cities\")\n",
    "plt.xlabel(\"Latitude\")\n",
    "plt.ylabel(\"Cloudiness\")\n",
    "plt.savefig(\"./Images/lat_cloudiness.png\", bbox_inches=\"tight\")\n",
    "plt.show()\n",
    "plt.close()"
   ]
  },
  {
   "cell_type": "code",
   "execution_count": 18,
   "metadata": {},
   "outputs": [
    {
     "name": "stdout",
     "output_type": "stream",
     "text": [
      "The latitude vs. cloudiness plot has no correlation. It has a r_squared value of 0.0.\n"
     ]
    }
   ],
   "source": [
    "correlation_matrix = np.corrcoef(weather_df.Latitude, weather_df.Cloudiness)\n",
    "correlation_xy = correlation_matrix[0,1]\n",
    "r_squared = correlation_xy**2\n",
    "r_squared = round(r_squared,2)\n",
    "print(f\"The latitude vs. cloudiness plot has no correlation. It has a r_squared value of {r_squared}.\")"
   ]
  },
  {
   "cell_type": "markdown",
   "metadata": {},
   "source": [
    "## Latitude vs. Wind Speed Plot"
   ]
  },
  {
   "cell_type": "code",
   "execution_count": 19,
   "metadata": {},
   "outputs": [
    {
     "data": {
      "image/png": "[encoded data removed]",
      "text/plain": [
       "<Figure size 432x288 with 1 Axes>"
      ]
     },
     "metadata": {
      "needs_background": "light"
     },
     "output_type": "display_data"
    }
   ],
   "source": [
    "plt.scatter(weather_df.Latitude, weather_df.Windiness, edgecolors=\"black\")\n",
    "plt.title(\"Latitude vs. Humidity (%) on a Subset of World Cities\")\n",
    "plt.xlabel(\"Latitude\")\n",
    "plt.ylabel(\"Wind Speed\")\n",
    "plt.savefig(\"./Images/lat_winds.png\",bbox_inches=\"tight\")\n",
    "plt.show()\n",
    "plt.close()"
   ]
  },
  {
   "cell_type": "code",
   "execution_count": 20,
   "metadata": {},
   "outputs": [
    {
     "name": "stdout",
     "output_type": "stream",
     "text": [
      "The cluster of data points are scattered towards the bottom of the scatter plot. Windiness seems to be constant throughout the latitudes\n"
     ]
    }
   ],
   "source": [
    "print(f\"The cluster of data points are scattered towards the bottom of the scatter plot. Windiness seems to be constant throughout the latitudes\")"
   ]
  },
  {
   "cell_type": "markdown",
   "metadata": {},
   "source": [
    "## Linear Regression"
   ]
  },
  {
   "cell_type": "code",
   "execution_count": 21,
   "metadata": {},
   "outputs": [],
   "source": [
    "northern_hemis = weather_df.loc[weather_df.Latitude > 0]\n",
    "southern_hemis = weather_df.loc[weather_df.Latitude < 0]"
   ]
  },
  {
   "cell_type": "code",
   "execution_count": 33,
   "metadata": {},
   "outputs": [],
   "source": [
    "def to_linear_regress(x, y):\n",
    "    pearson_r = round(st.pearsonr(x, y)[0],2)\n",
    "    (slope, intercept, rvalue, pvalue, stderr) = linregress(x, y)\n",
    "    regress_values = x * slope + intercept\n",
    "    line_eq = f\"y = {round(slope,2)}x + {round(intercept, 2)}\"\n",
    "    plt.scatter(x, y, edgecolors=\"black\")\n",
    "    plt.plot(x,regress_values,\"r-\")\n",
    "    print(f\"correlation coefficient : {pearson_r}\")\n",
    "    return line_eq"
   ]
  },
  {
   "cell_type": "code",
   "execution_count": 35,
   "metadata": {},
   "outputs": [],
   "source": [
    "# to show line equation on graph\n",
    "def to_annotate(line_eq, x, y):\n",
    "    plt.annotate(line_eq,(x,y),fontsize=13,color=\"magenta\")"
   ]
  },
  {
   "cell_type": "markdown",
   "metadata": {},
   "source": [
    "####  Northern Hemisphere - Max Temp vs. Latitude Linear Regression"
   ]
  },
  {
   "cell_type": "code",
   "execution_count": 37,
   "metadata": {},
   "outputs": [
    {
     "name": "stdout",
     "output_type": "stream",
     "text": [
      "correlation coefficient : -0.87\n"
     ]
    },
    {
     "data": {
      "image/png": "[encoded data removed]",
      "text/plain": [
       "<Figure size 432x288 with 1 Axes>"
      ]
     },
     "metadata": {
      "needs_background": "light"
     },
     "output_type": "display_data"
    }
   ],
   "source": [
    "northern_max_line = to_linear_regress(northern_hemis.Latitude, northern_hemis.Temperatures)\n",
    "plt.title(\"Northern Hemisphere: Latitude vs. Max Temps (F) on a Subset of World Cities\")\n",
    "plt.xlabel(\"Latitudes\")\n",
    "plt.ylabel(\"Max Temps (F)\")\n",
    "\n",
    "to_annotate(northern_max_line,0, 0)\n",
    "\n",
    "plt.savefig(\"./Images/lats_northern_temps.png\",bbox_inches=\"tight\")\n",
    "plt.show()\n",
    "plt.close()"
   ]
  },
  {
   "cell_type": "code",
   "execution_count": 55,
   "metadata": {},
   "outputs": [
    {
     "name": "stdout",
     "output_type": "stream",
     "text": [
      "Since the correlation coefficient for this graph is -0.87, this means that the Lat vs. Max plot has a strong negative correlation.\n"
     ]
    }
   ],
   "source": [
    "print(\"Since the correlation coefficient for this graph is -0.87, this means that the Lat vs. Max plot has a strong negative correlation.\")"
   ]
  },
  {
   "cell_type": "markdown",
   "metadata": {},
   "source": [
    "####  Southern Hemisphere - Max Temp vs. Latitude Linear Regression"
   ]
  },
  {
   "cell_type": "code",
   "execution_count": 39,
   "metadata": {},
   "outputs": [
    {
     "name": "stdout",
     "output_type": "stream",
     "text": [
      "correlation coefficient : 0.61\n"
     ]
    },
    {
     "data": {
      "image/png": "[encoded data removed]",
      "text/plain": [
       "<Figure size 432x288 with 1 Axes>"
      ]
     },
     "metadata": {
      "needs_background": "light"
     },
     "output_type": "display_data"
    }
   ],
   "source": [
    "southern_max_line = to_linear_regress(southern_hemis.Latitude, southern_hemis.Temperatures)\n",
    "plt.title(\"Southern Hemisphere: Latitude vs. Max Temps (F) on a Subset of World Cities\")\n",
    "plt.xlabel(\"Latitudes\")\n",
    "plt.ylabel(\"Max Temps (F)\")\n",
    "\n",
    "to_annotate(southern_max_line, -25, 95)\n",
    "\n",
    "plt.savefig(\"./Images/lats_southern_temps.png\",bbox_inches=\"tight\")\n",
    "plt.show()\n",
    "plt.close()"
   ]
  },
  {
   "cell_type": "code",
   "execution_count": 57,
   "metadata": {},
   "outputs": [
    {
     "name": "stdout",
     "output_type": "stream",
     "text": [
      "The Southern Hemisphere: Lat. vs Max Temps plot has a moderate positive correlation based on its correlation coefficient of 0.61\n"
     ]
    }
   ],
   "source": [
    "print(\"The Southern Hemisphere: Lat. vs Max Temps plot has a moderate positive correlation based on its correlation coefficient of 0.61\")"
   ]
  },
  {
   "cell_type": "markdown",
   "metadata": {},
   "source": [
    "####  Northern Hemisphere - Humidity (%) vs. Latitude Linear Regression"
   ]
  },
  {
   "cell_type": "code",
   "execution_count": 41,
   "metadata": {},
   "outputs": [
    {
     "name": "stdout",
     "output_type": "stream",
     "text": [
      "correlation coefficient : 0.27\n"
     ]
    },
    {
     "data": {
      "image/png": "[encoded data removed]",
      "text/plain": [
       "<Figure size 432x288 with 1 Axes>"
      ]
     },
     "metadata": {
      "needs_background": "light"
     },
     "output_type": "display_data"
    }
   ],
   "source": [
    "northern_humid_line = to_linear_regress(northern_hemis.Latitude, northern_hemis.Humidity)\n",
    "plt.title(\"Northern Hemisphere: Latitude vs. Humidity(%) on a Subset of World Cities\")\n",
    "plt.xlabel(\"Latitudes\")\n",
    "plt.ylabel(\"Humidity (%)\")\n",
    "\n",
    "to_annotate(northern_humid_line, 80, 80)\n",
    "\n",
    "plt.savefig(\"./Images/lats_northern_humidity.png\", bbox_inches=\"tight\")\n",
    "plt.show()\n",
    "plt.close()"
   ]
  },
  {
   "cell_type": "code",
   "execution_count": 58,
   "metadata": {},
   "outputs": [
    {
     "name": "stdout",
     "output_type": "stream",
     "text": [
      "The Northern Hemisphere: Lat vs. Humidity plt has a very weak positive correlation as its correlation coefficient is 0.27\n"
     ]
    }
   ],
   "source": [
    "print(\"The Northern Hemisphere: Lat vs. Humidity plt has a very weak positive correlation as its correlation coefficient is 0.27\")"
   ]
  },
  {
   "cell_type": "markdown",
   "metadata": {},
   "source": [
    "####  Southern Hemisphere - Humidity (%) vs. Latitude Linear Regression"
   ]
  },
  {
   "cell_type": "code",
   "execution_count": 43,
   "metadata": {},
   "outputs": [
    {
     "name": "stdout",
     "output_type": "stream",
     "text": [
      "correlation coefficient : 0.28\n"
     ]
    },
    {
     "data": {
      "image/png": "[encoded data removed]",
      "text/plain": [
       "<Figure size 432x288 with 1 Axes>"
      ]
     },
     "metadata": {
      "needs_background": "light"
     },
     "output_type": "display_data"
    }
   ],
   "source": [
    "southern_humid_line = to_linear_regress(southern_hemis.Latitude, southern_hemis.Humidity)\n",
    "plt.title(\"Southern Hemisphere: Latitude vs. Humidity(%) on a Subset of World Cities\")\n",
    "plt.xlabel(\"Latitudes\")\n",
    "plt.ylabel(\"Humidity (%)\")\n",
    "\n",
    "to_annotate(northern_humid_line, 0, 75)\n",
    "\n",
    "plt.savefig(\"./Images/lats_southern_humidity.png\",bbox_inches=\"tight\")\n",
    "plt.show()\n",
    "plt.close()"
   ]
  },
  {
   "cell_type": "code",
   "execution_count": 60,
   "metadata": {},
   "outputs": [
    {
     "name": "stdout",
     "output_type": "stream",
     "text": [
      "The Southern Hemisphere: Lat vs. Humidity plot has a very weak positive correlation as its correlation coefficient is 0.28\n"
     ]
    }
   ],
   "source": [
    "print(\"The Southern Hemisphere: Lat vs. Humidity plot has a very weak positive correlation as its correlation coefficient is 0.28\")"
   ]
  },
  {
   "cell_type": "markdown",
   "metadata": {},
   "source": [
    "####  Northern Hemisphere - Cloudiness (%) vs. Latitude Linear Regression"
   ]
  },
  {
   "cell_type": "code",
   "execution_count": 61,
   "metadata": {},
   "outputs": [
    {
     "name": "stdout",
     "output_type": "stream",
     "text": [
      "correlation coefficient : 0.1\n"
     ]
    },
    {
     "data": {
      "image/png": "[encoded data removed]",
      "text/plain": [
       "<Figure size 432x288 with 1 Axes>"
      ]
     },
     "metadata": {
      "needs_background": "light"
     },
     "output_type": "display_data"
    }
   ],
   "source": [
    "northern_cloudy_line = to_linear_regress(northern_hemis.Latitude, northern_hemis.Cloudiness)\n",
    "plt.title(\"Northern Hemisphere: Latitude vs. Cloudiness (%) on a Subset of World Cities\")\n",
    "plt.xlabel(\"Latitudes\")\n",
    "plt.ylabel(\"Cloudiness (%)\")\n",
    "\n",
    "to_annotate(northern_cloudy_line, 60, 45)\n",
    "\n",
    "plt.savefig(\"./Images/lats_northern_cloudiness.png\",bbox_inches=\"tight\")\n",
    "plt.show()\n",
    "plt.close()"
   ]
  },
  {
   "cell_type": "code",
   "execution_count": 62,
   "metadata": {},
   "outputs": [
    {
     "name": "stdout",
     "output_type": "stream",
     "text": [
      "The Northern Hemisphere: Lat vs. Cloudiness plot has a very weak positive correlation as its correlation coefficient is 0.1\n"
     ]
    }
   ],
   "source": [
    "print(\"The Northern Hemisphere: Lat vs. Cloudiness plot has a very weak positive correlation as its correlation coefficient is 0.1\")"
   ]
  },
  {
   "cell_type": "markdown",
   "metadata": {},
   "source": [
    "####  Southern Hemisphere - Cloudiness (%) vs. Latitude Linear Regression"
   ]
  },
  {
   "cell_type": "code",
   "execution_count": 47,
   "metadata": {},
   "outputs": [
    {
     "name": "stdout",
     "output_type": "stream",
     "text": [
      "correlation coefficient : 0.3\n"
     ]
    },
    {
     "data": {
      "image/png": "[encoded data removed]",
      "text/plain": [
       "<Figure size 432x288 with 1 Axes>"
      ]
     },
     "metadata": {
      "needs_background": "light"
     },
     "output_type": "display_data"
    }
   ],
   "source": [
    "southern_cloudy_line = to_linear_regress(southern_hemis.Latitude, southern_hemis.Cloudiness)\n",
    "plt.title(\"Southern Hemisphere: Latitude vs. Cloudiness (%) on a Subset of World Cities\")\n",
    "plt.xlabel(\"Latitudes\")\n",
    "plt.ylabel(\"Cloudiness (%)\")\n",
    "\n",
    "to_annotate(southern_cloudy_line, -20, 50)\n",
    "\n",
    "plt.savefig(\"./Images/lats_southern_cloudiness.png\",bbox_inches=\"tight\")\n",
    "plt.show()\n",
    "plt.close()"
   ]
  },
  {
   "cell_type": "code",
   "execution_count": 63,
   "metadata": {},
   "outputs": [
    {
     "name": "stdout",
     "output_type": "stream",
     "text": [
      "The Southern Hemisphere: Lat vs. Cloudiness plot has a weak positive correlation as its correlation coefficient is 0.3\n"
     ]
    }
   ],
   "source": [
    "print(\"The Southern Hemisphere: Lat vs. Cloudiness plot has a weak positive correlation as its correlation coefficient is 0.3\")"
   ]
  },
  {
   "cell_type": "markdown",
   "metadata": {},
   "source": [
    "####  Northern Hemisphere - Wind Speed (mph) vs. Latitude Linear Regression"
   ]
  },
  {
   "cell_type": "code",
   "execution_count": 66,
   "metadata": {},
   "outputs": [
    {
     "name": "stdout",
     "output_type": "stream",
     "text": [
      "correlation coefficient : 0.09\n"
     ]
    },
    {
     "data": {
      "image/png": "[encoded data removed]",
      "text/plain": [
       "<Figure size 432x288 with 1 Axes>"
      ]
     },
     "metadata": {
      "needs_background": "light"
     },
     "output_type": "display_data"
    }
   ],
   "source": [
    "northern_windy_line = to_linear_regress(northern_hemis.Latitude, northern_hemis.Windiness)\n",
    "plt.title(\"Northern Hemisphere: Latitude vs. Wind Speed (mph) on a Subset of World Cities\")\n",
    "plt.xlabel(\"Latitudes\")\n",
    "plt.ylabel(\"Wind Speed (mph)\")\n",
    "\n",
    "to_annotate(southern_cloudy_line, 60, 30)\n",
    "\n",
    "plt.savefig(\"./Images/lats_northern_speeds.png\",bbox_inches=\"tight\")\n",
    "plt.show()\n",
    "plt.close()"
   ]
  },
  {
   "cell_type": "code",
   "execution_count": 67,
   "metadata": {},
   "outputs": [
    {
     "name": "stdout",
     "output_type": "stream",
     "text": [
      "The Northern Hemisphere: Lat vs. Wind Speed plot has a very weak positive correlation as its correlation coefficient is 0.09\n"
     ]
    }
   ],
   "source": [
    "print(\"The Northern Hemisphere: Lat vs. Wind Speed plot has a very weak positive correlation as its correlation coefficient is 0.09\")"
   ]
  },
  {
   "cell_type": "markdown",
   "metadata": {},
   "source": [
    "####  Southern Hemisphere - Wind Speed (mph) vs. Latitude Linear Regression"
   ]
  },
  {
   "cell_type": "code",
   "execution_count": 68,
   "metadata": {},
   "outputs": [
    {
     "name": "stdout",
     "output_type": "stream",
     "text": [
      "correlation coefficient : -0.23\n"
     ]
    },
    {
     "data": {
      "image/png": "[encoded data removed]",
      "text/plain": [
       "<Figure size 432x288 with 1 Axes>"
      ]
     },
     "metadata": {
      "needs_background": "light"
     },
     "output_type": "display_data"
    }
   ],
   "source": [
    "southern_windy_line = to_linear_regress(southern_hemis.Latitude, southern_hemis.Windiness)\n",
    "plt.title(\"Southern Hemisphere: Latitude vs. Wind Speed (mph) on a Subset of World Cities\")\n",
    "plt.xlabel(\"Latitudes\")\n",
    "plt.ylabel(\"Windiness (mph)\")\n",
    "\n",
    "to_annotate(southern_cloudy_line, -55,18)\n",
    "\n",
    "plt.savefig(\"./Images/lats_southern_speeds.png\",bbox_inches=\"tight\")\n",
    "plt.show()\n",
    "plt.close()"
   ]
  },
  {
   "cell_type": "code",
   "execution_count": 69,
   "metadata": {},
   "outputs": [
    {
     "name": "stdout",
     "output_type": "stream",
     "text": [
      "The Southern Hemisphere: Lat vs. Wind Speed plot has a very weak negative correlation as its correlation coefficient is 0.09\n"
     ]
    }
   ],
   "source": [
    "print(\"The Southern Hemisphere: Lat vs. Wind Speed plot has a very weak negative correlation as its correlation coefficient is 0.09\")"
   ]
  }
 ],
 "metadata": {
  "anaconda-cloud": {},
  "kernel_info": {
   "name": "python3"
  },
  "kernelspec": {
   "display_name": "Python 3",
   "language": "python",
   "name": "python3"
  },
  "language_info": {
   "codemirror_mode": {
    "name": "ipython",
    "version": 3
   },
   "file_extension": ".py",
   "mimetype": "text/x-python",
   "name": "python",
   "nbconvert_exporter": "python",
   "pygments_lexer": "ipython3",
   "version": "3.8.5"
  },
  "latex_envs": {
   "LaTeX_envs_menu_present": true,
   "autoclose": false,
   "autocomplete": true,
   "bibliofile": "biblio.bib",
   "cite_by": "apalike",
   "current_citInitial": 1,
   "eqLabelWithNumbers": true,
   "eqNumInitial": 1,
   "hotkeys": {
    "equation": "Ctrl-E",
    "itemize": "Ctrl-I"
   },
   "labels_anchors": false,
   "latex_user_defs": false,
   "report_style_numbering": false,
   "user_envs_cfg": false
  },
  "nteract": {
   "version": "0.12.3"
  }
 },
 "nbformat": 4,
 "nbformat_minor": 2
}
